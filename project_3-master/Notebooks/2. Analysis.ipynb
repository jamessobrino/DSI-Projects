{
 "cells": [
  {
   "cell_type": "code",
   "execution_count": 499,
   "metadata": {},
   "outputs": [],
   "source": [
    "import pandas as pd\n",
    "import numpy as np\n",
    "import matplotlib.pyplot as plt\n",
    "import seaborn as sns\n",
    "\n",
    "from sklearn.model_selection import train_test_split, GridSearchCV\n",
    "from sklearn.naive_bayes import MultinomialNB\n",
    "from sklearn.linear_model import LogisticRegression\n",
    "from sklearn.svm import SVC\n",
    "from sklearn.pipeline import Pipeline\n",
    "from sklearn.feature_extraction.text import CountVectorizer#, TfidfVectorizer\n",
    "from sklearn.metrics import confusion_matrix, plot_confusion_matrix\n",
    "from sklearn.neighbors import KNeighborsClassifier\n",
    "from sklearn.tree import DecisionTreeClassifier\n",
    "from sklearn.ensemble import RandomForestClassifier\n",
    "from sklearn.naive_bayes import MultinomialNB\n",
    "from sklearn.metrics import roc_auc_score, plot_roc_curve"
   ]
  },
  {
   "cell_type": "code",
   "execution_count": 32,
   "metadata": {},
   "outputs": [],
   "source": [
    "df = pd.read_csv('../datasets/subreddits_df.csv')"
   ]
  },
  {
   "cell_type": "code",
   "execution_count": 33,
   "metadata": {},
   "outputs": [
    {
     "data": {
      "text/html": [
       "<div>\n",
       "<style scoped>\n",
       "    .dataframe tbody tr th:only-of-type {\n",
       "        vertical-align: middle;\n",
       "    }\n",
       "\n",
       "    .dataframe tbody tr th {\n",
       "        vertical-align: top;\n",
       "    }\n",
       "\n",
       "    .dataframe thead th {\n",
       "        text-align: right;\n",
       "    }\n",
       "</style>\n",
       "<table border=\"1\" class=\"dataframe\">\n",
       "  <thead>\n",
       "    <tr style=\"text-align: right;\">\n",
       "      <th></th>\n",
       "      <th>posts</th>\n",
       "      <th>subreddit</th>\n",
       "      <th>upvotes</th>\n",
       "      <th>num_comments</th>\n",
       "    </tr>\n",
       "  </thead>\n",
       "  <tbody>\n",
       "    <tr>\n",
       "      <th>0</th>\n",
       "      <td>Daily Discussion Thread</td>\n",
       "      <td>nba</td>\n",
       "      <td>26</td>\n",
       "      <td>99</td>\n",
       "    </tr>\n",
       "    <tr>\n",
       "      <th>1</th>\n",
       "      <td>[Mod Post] New Mod Application Thread</td>\n",
       "      <td>nba</td>\n",
       "      <td>150</td>\n",
       "      <td>41</td>\n",
       "    </tr>\n",
       "    <tr>\n",
       "      <th>2</th>\n",
       "      <td>[Wojnarowski] Sources with @WindhorstESPN : Th...</td>\n",
       "      <td>nba</td>\n",
       "      <td>2948</td>\n",
       "      <td>861</td>\n",
       "    </tr>\n",
       "    <tr>\n",
       "      <th>3</th>\n",
       "      <td>[Highlight] Lonzo Ball and Alex Caruso Dish It...</td>\n",
       "      <td>nba</td>\n",
       "      <td>2266</td>\n",
       "      <td>300</td>\n",
       "    </tr>\n",
       "    <tr>\n",
       "      <th>4</th>\n",
       "      <td>[Neubeck] After receiving a big fine for missi...</td>\n",
       "      <td>nba</td>\n",
       "      <td>2387</td>\n",
       "      <td>695</td>\n",
       "    </tr>\n",
       "  </tbody>\n",
       "</table>\n",
       "</div>"
      ],
      "text/plain": [
       "                                               posts subreddit  upvotes  \\\n",
       "0                            Daily Discussion Thread       nba       26   \n",
       "1              [Mod Post] New Mod Application Thread       nba      150   \n",
       "2  [Wojnarowski] Sources with @WindhorstESPN : Th...       nba     2948   \n",
       "3  [Highlight] Lonzo Ball and Alex Caruso Dish It...       nba     2266   \n",
       "4  [Neubeck] After receiving a big fine for missi...       nba     2387   \n",
       "\n",
       "   num_comments  \n",
       "0            99  \n",
       "1            41  \n",
       "2           861  \n",
       "3           300  \n",
       "4           695  "
      ]
     },
     "execution_count": 33,
     "metadata": {},
     "output_type": "execute_result"
    }
   ],
   "source": [
    "df.head()"
   ]
  },
  {
   "cell_type": "code",
   "execution_count": 34,
   "metadata": {},
   "outputs": [
    {
     "data": {
      "text/plain": [
       "(1692, 4)"
      ]
     },
     "execution_count": 34,
     "metadata": {},
     "output_type": "execute_result"
    }
   ],
   "source": [
    "df.shape"
   ]
  },
  {
   "cell_type": "markdown",
   "metadata": {},
   "source": [
    "#### Nothing to clean here"
   ]
  },
  {
   "cell_type": "code",
   "execution_count": 35,
   "metadata": {},
   "outputs": [
    {
     "name": "stdout",
     "output_type": "stream",
     "text": [
      "posts           0\n",
      "subreddit       0\n",
      "upvotes         0\n",
      "num_comments    0\n",
      "dtype: int64\n"
     ]
    }
   ],
   "source": [
    "print(df.isnull().sum())"
   ]
  },
  {
   "cell_type": "markdown",
   "metadata": {},
   "source": [
    "### Creating dummy columns for subreddit data"
   ]
  },
  {
   "cell_type": "code",
   "execution_count": 36,
   "metadata": {},
   "outputs": [],
   "source": [
    "df = pd.get_dummies(df, columns = ['subreddit'], drop_first= True)"
   ]
  },
  {
   "cell_type": "code",
   "execution_count": 482,
   "metadata": {},
   "outputs": [
    {
     "data": {
      "text/html": [
       "<div>\n",
       "<style scoped>\n",
       "    .dataframe tbody tr th:only-of-type {\n",
       "        vertical-align: middle;\n",
       "    }\n",
       "\n",
       "    .dataframe tbody tr th {\n",
       "        vertical-align: top;\n",
       "    }\n",
       "\n",
       "    .dataframe thead th {\n",
       "        text-align: right;\n",
       "    }\n",
       "</style>\n",
       "<table border=\"1\" class=\"dataframe\">\n",
       "  <thead>\n",
       "    <tr style=\"text-align: right;\">\n",
       "      <th></th>\n",
       "      <th>posts</th>\n",
       "      <th>upvotes</th>\n",
       "      <th>num_comments</th>\n",
       "      <th>subreddit_warriors</th>\n",
       "    </tr>\n",
       "  </thead>\n",
       "  <tbody>\n",
       "    <tr>\n",
       "      <th>0</th>\n",
       "      <td>Daily Discussion Thread</td>\n",
       "      <td>26</td>\n",
       "      <td>99</td>\n",
       "      <td>0</td>\n",
       "    </tr>\n",
       "    <tr>\n",
       "      <th>1</th>\n",
       "      <td>[Mod Post] New Mod Application Thread</td>\n",
       "      <td>150</td>\n",
       "      <td>41</td>\n",
       "      <td>0</td>\n",
       "    </tr>\n",
       "    <tr>\n",
       "      <th>2</th>\n",
       "      <td>[Wojnarowski] Sources with @WindhorstESPN : The Brooklyn Nets remain unclear on All-Star guard Kyrie Irving’s ultimate intentions to get vaccinated and have made no decision on whether the organiz...</td>\n",
       "      <td>2948</td>\n",
       "      <td>861</td>\n",
       "      <td>0</td>\n",
       "    </tr>\n",
       "    <tr>\n",
       "      <th>3</th>\n",
       "      <td>[Highlight] Lonzo Ball and Alex Caruso Dish It To Zach LaVine For Some Nice Flushes!</td>\n",
       "      <td>2266</td>\n",
       "      <td>300</td>\n",
       "      <td>0</td>\n",
       "    </tr>\n",
       "    <tr>\n",
       "      <th>4</th>\n",
       "      <td>[Neubeck] After receiving a big fine for missing last night's preseason game, sources say Ben Simmons' representation spoke to the players association and had it reiterated the money could not be ...</td>\n",
       "      <td>2387</td>\n",
       "      <td>695</td>\n",
       "      <td>0</td>\n",
       "    </tr>\n",
       "  </tbody>\n",
       "</table>\n",
       "</div>"
      ],
      "text/plain": [
       "                                                                                                                                                                                                     posts  \\\n",
       "0                                                                                                                                                                                  Daily Discussion Thread   \n",
       "1                                                                                                                                                                    [Mod Post] New Mod Application Thread   \n",
       "2  [Wojnarowski] Sources with @WindhorstESPN : The Brooklyn Nets remain unclear on All-Star guard Kyrie Irving’s ultimate intentions to get vaccinated and have made no decision on whether the organiz...   \n",
       "3                                                                                                                     [Highlight] Lonzo Ball and Alex Caruso Dish It To Zach LaVine For Some Nice Flushes!   \n",
       "4  [Neubeck] After receiving a big fine for missing last night's preseason game, sources say Ben Simmons' representation spoke to the players association and had it reiterated the money could not be ...   \n",
       "\n",
       "   upvotes  num_comments  subreddit_warriors  \n",
       "0       26            99                   0  \n",
       "1      150            41                   0  \n",
       "2     2948           861                   0  \n",
       "3     2266           300                   0  \n",
       "4     2387           695                   0  "
      ]
     },
     "execution_count": 482,
     "metadata": {},
     "output_type": "execute_result"
    }
   ],
   "source": [
    "df.head()"
   ]
  },
  {
   "cell_type": "code",
   "execution_count": 39,
   "metadata": {},
   "outputs": [],
   "source": [
    "X= df['posts']\n",
    "y= df['subreddit_warriors']"
   ]
  },
  {
   "cell_type": "code",
   "execution_count": 40,
   "metadata": {},
   "outputs": [],
   "source": [
    "X_train, X_test, y_train, y_test= train_test_split(X, y, random_state = 302123, stratify= y)"
   ]
  },
  {
   "cell_type": "code",
   "execution_count": 41,
   "metadata": {},
   "outputs": [
    {
     "data": {
      "text/plain": [
       "1    0.529551\n",
       "0    0.470449\n",
       "Name: subreddit_warriors, dtype: float64"
      ]
     },
     "execution_count": 41,
     "metadata": {},
     "output_type": "execute_result"
    }
   ],
   "source": [
    "# Baseline\n",
    "y_test.value_counts(normalize=True)"
   ]
  },
  {
   "cell_type": "markdown",
   "metadata": {},
   "source": [
    "### Model 1 - Logistic Regression"
   ]
  },
  {
   "cell_type": "code",
   "execution_count": 148,
   "metadata": {},
   "outputs": [],
   "source": [
    "kcount = 0\n",
    "kmodel_params = {}"
   ]
  },
  {
   "cell_type": "code",
   "execution_count": 585,
   "metadata": {},
   "outputs": [],
   "source": [
    "pipe = Pipeline([\n",
    "    ('cvec', CountVectorizer(stop_words= 'english')),\n",
    "    ('log', LogisticRegression())\n",
    "])\n",
    "\n",
    "pipe_params = {\n",
    "    'cvec__max_features': [2500, 2700, 3000, 3250],\n",
    "    'cvec__max_df': [.3, .4, .5],\n",
    "    'cvec__ngram_range': [(1,1), (1,2), (1,3)]\n",
    "}"
   ]
  },
  {
   "cell_type": "code",
   "execution_count": 586,
   "metadata": {},
   "outputs": [
    {
     "data": {
      "text/html": [
       "<div>\n",
       "<style scoped>\n",
       "    .dataframe tbody tr th:only-of-type {\n",
       "        vertical-align: middle;\n",
       "    }\n",
       "\n",
       "    .dataframe tbody tr th {\n",
       "        vertical-align: top;\n",
       "    }\n",
       "\n",
       "    .dataframe thead th {\n",
       "        text-align: right;\n",
       "    }\n",
       "</style>\n",
       "<table border=\"1\" class=\"dataframe\">\n",
       "  <thead>\n",
       "    <tr style=\"text-align: right;\">\n",
       "      <th></th>\n",
       "      <th>cvec__max_df</th>\n",
       "      <th>cvec__max_features</th>\n",
       "      <th>cvec__min_df</th>\n",
       "      <th>cvec__ngram_range</th>\n",
       "      <th>score</th>\n",
       "      <th>dt__max_depth</th>\n",
       "      <th>dt__min_samples_leaf</th>\n",
       "      <th>dt__min_samples_split</th>\n",
       "    </tr>\n",
       "  </thead>\n",
       "  <tbody>\n",
       "    <tr>\n",
       "      <th>model_1</th>\n",
       "      <td>0.90</td>\n",
       "      <td>3000</td>\n",
       "      <td>1.0</td>\n",
       "      <td>(1, 3)</td>\n",
       "      <td>0.842392</td>\n",
       "      <td>NaN</td>\n",
       "      <td>NaN</td>\n",
       "      <td>NaN</td>\n",
       "    </tr>\n",
       "    <tr>\n",
       "      <th>model_2</th>\n",
       "      <td>0.85</td>\n",
       "      <td>4500</td>\n",
       "      <td>NaN</td>\n",
       "      <td>(1, 3)</td>\n",
       "      <td>0.842389</td>\n",
       "      <td>NaN</td>\n",
       "      <td>NaN</td>\n",
       "      <td>NaN</td>\n",
       "    </tr>\n",
       "    <tr>\n",
       "      <th>model_3</th>\n",
       "      <td>0.85</td>\n",
       "      <td>3000</td>\n",
       "      <td>NaN</td>\n",
       "      <td>(1, 3)</td>\n",
       "      <td>0.842392</td>\n",
       "      <td>NaN</td>\n",
       "      <td>NaN</td>\n",
       "      <td>NaN</td>\n",
       "    </tr>\n",
       "    <tr>\n",
       "      <th>model_4</th>\n",
       "      <td>0.85</td>\n",
       "      <td>3000</td>\n",
       "      <td>NaN</td>\n",
       "      <td>(1, 3)</td>\n",
       "      <td>0.842392</td>\n",
       "      <td>NaN</td>\n",
       "      <td>NaN</td>\n",
       "      <td>NaN</td>\n",
       "    </tr>\n",
       "    <tr>\n",
       "      <th>model_5</th>\n",
       "      <td>0.75</td>\n",
       "      <td>3000</td>\n",
       "      <td>NaN</td>\n",
       "      <td>(1, 3)</td>\n",
       "      <td>0.842392</td>\n",
       "      <td>NaN</td>\n",
       "      <td>NaN</td>\n",
       "      <td>NaN</td>\n",
       "    </tr>\n",
       "    <tr>\n",
       "      <th>model_6</th>\n",
       "      <td>0.75</td>\n",
       "      <td>2500</td>\n",
       "      <td>NaN</td>\n",
       "      <td>(1, 1)</td>\n",
       "      <td>0.734440</td>\n",
       "      <td>7.0</td>\n",
       "      <td>3.0</td>\n",
       "      <td>9.0</td>\n",
       "    </tr>\n",
       "    <tr>\n",
       "      <th>model_7</th>\n",
       "      <td>0.75</td>\n",
       "      <td>2500</td>\n",
       "      <td>NaN</td>\n",
       "      <td>(1, 1)</td>\n",
       "      <td>0.734440</td>\n",
       "      <td>7.0</td>\n",
       "      <td>3.0</td>\n",
       "      <td>9.0</td>\n",
       "    </tr>\n",
       "    <tr>\n",
       "      <th>model_22</th>\n",
       "      <td>0.30</td>\n",
       "      <td>3000</td>\n",
       "      <td>NaN</td>\n",
       "      <td>(1, 3)</td>\n",
       "      <td>0.842392</td>\n",
       "      <td>NaN</td>\n",
       "      <td>NaN</td>\n",
       "      <td>NaN</td>\n",
       "    </tr>\n",
       "    <tr>\n",
       "      <th>model_26</th>\n",
       "      <td>0.30</td>\n",
       "      <td>3000</td>\n",
       "      <td>NaN</td>\n",
       "      <td>(1, 3)</td>\n",
       "      <td>0.842392</td>\n",
       "      <td>NaN</td>\n",
       "      <td>NaN</td>\n",
       "      <td>NaN</td>\n",
       "    </tr>\n",
       "    <tr>\n",
       "      <th>model_32</th>\n",
       "      <td>0.30</td>\n",
       "      <td>3000</td>\n",
       "      <td>NaN</td>\n",
       "      <td>(1, 3)</td>\n",
       "      <td>0.842392</td>\n",
       "      <td>NaN</td>\n",
       "      <td>NaN</td>\n",
       "      <td>NaN</td>\n",
       "    </tr>\n",
       "    <tr>\n",
       "      <th>model_34</th>\n",
       "      <td>0.30</td>\n",
       "      <td>3000</td>\n",
       "      <td>NaN</td>\n",
       "      <td>(1, 3)</td>\n",
       "      <td>0.842392</td>\n",
       "      <td>NaN</td>\n",
       "      <td>NaN</td>\n",
       "      <td>NaN</td>\n",
       "    </tr>\n",
       "    <tr>\n",
       "      <th>model_36</th>\n",
       "      <td>0.30</td>\n",
       "      <td>3000</td>\n",
       "      <td>NaN</td>\n",
       "      <td>(1, 3)</td>\n",
       "      <td>0.842392</td>\n",
       "      <td>NaN</td>\n",
       "      <td>NaN</td>\n",
       "      <td>NaN</td>\n",
       "    </tr>\n",
       "    <tr>\n",
       "      <th>model_37</th>\n",
       "      <td>0.30</td>\n",
       "      <td>3000</td>\n",
       "      <td>NaN</td>\n",
       "      <td>(1, 3)</td>\n",
       "      <td>0.842392</td>\n",
       "      <td>NaN</td>\n",
       "      <td>NaN</td>\n",
       "      <td>NaN</td>\n",
       "    </tr>\n",
       "    <tr>\n",
       "      <th>model_40</th>\n",
       "      <td>0.30</td>\n",
       "      <td>3000</td>\n",
       "      <td>NaN</td>\n",
       "      <td>(1, 3)</td>\n",
       "      <td>0.842392</td>\n",
       "      <td>NaN</td>\n",
       "      <td>NaN</td>\n",
       "      <td>NaN</td>\n",
       "    </tr>\n",
       "  </tbody>\n",
       "</table>\n",
       "</div>"
      ],
      "text/plain": [
       "          cvec__max_df  cvec__max_features  cvec__min_df cvec__ngram_range  \\\n",
       "model_1           0.90                3000           1.0            (1, 3)   \n",
       "model_2           0.85                4500           NaN            (1, 3)   \n",
       "model_3           0.85                3000           NaN            (1, 3)   \n",
       "model_4           0.85                3000           NaN            (1, 3)   \n",
       "model_5           0.75                3000           NaN            (1, 3)   \n",
       "model_6           0.75                2500           NaN            (1, 1)   \n",
       "model_7           0.75                2500           NaN            (1, 1)   \n",
       "model_22          0.30                3000           NaN            (1, 3)   \n",
       "model_26          0.30                3000           NaN            (1, 3)   \n",
       "model_32          0.30                3000           NaN            (1, 3)   \n",
       "model_34          0.30                3000           NaN            (1, 3)   \n",
       "model_36          0.30                3000           NaN            (1, 3)   \n",
       "model_37          0.30                3000           NaN            (1, 3)   \n",
       "model_40          0.30                3000           NaN            (1, 3)   \n",
       "\n",
       "             score  dt__max_depth  dt__min_samples_leaf  dt__min_samples_split  \n",
       "model_1   0.842392            NaN                   NaN                    NaN  \n",
       "model_2   0.842389            NaN                   NaN                    NaN  \n",
       "model_3   0.842392            NaN                   NaN                    NaN  \n",
       "model_4   0.842392            NaN                   NaN                    NaN  \n",
       "model_5   0.842392            NaN                   NaN                    NaN  \n",
       "model_6   0.734440            7.0                   3.0                    9.0  \n",
       "model_7   0.734440            7.0                   3.0                    9.0  \n",
       "model_22  0.842392            NaN                   NaN                    NaN  \n",
       "model_26  0.842392            NaN                   NaN                    NaN  \n",
       "model_32  0.842392            NaN                   NaN                    NaN  \n",
       "model_34  0.842392            NaN                   NaN                    NaN  \n",
       "model_36  0.842392            NaN                   NaN                    NaN  \n",
       "model_37  0.842392            NaN                   NaN                    NaN  \n",
       "model_40  0.842392            NaN                   NaN                    NaN  "
      ]
     },
     "execution_count": 586,
     "metadata": {},
     "output_type": "execute_result"
    }
   ],
   "source": [
    "##taken from random forrest lesson.\n",
    "\n",
    "##gridsearch\n",
    "gs = GridSearchCV(estimator = pipe, param_grid= pipe_params, cv= 5)\n",
    "gs.fit(X_train, y_train)\n",
    "count += 1\n",
    "\n",
    "gs.best_params_['score']= gs.best_score_\n",
    "model_params[f'model_{count}'] = gs.best_params_\n",
    "model_df = pd.DataFrame.from_dict(model_params, orient = 'index')\n",
    "model_df"
   ]
  },
  {
   "cell_type": "code",
   "execution_count": 587,
   "metadata": {},
   "outputs": [
    {
     "data": {
      "text/plain": [
       "0.8486997635933806"
      ]
     },
     "execution_count": 587,
     "metadata": {},
     "output_type": "execute_result"
    }
   ],
   "source": [
    "### changing max_df isnt moving the socre in a noticable way so I'll use these params, \n",
    "gs.score(X_test, y_test)"
   ]
  },
  {
   "cell_type": "code",
   "execution_count": 588,
   "metadata": {},
   "outputs": [],
   "source": [
    "preds = gs.predict(X_test)"
   ]
  },
  {
   "cell_type": "code",
   "execution_count": 589,
   "metadata": {},
   "outputs": [
    {
     "data": {
      "image/png": "[encoded data removed]",
      "text/plain": [
       "<Figure size 432x288 with 1 Axes>"
      ]
     },
     "metadata": {
      "needs_background": "light"
     },
     "output_type": "display_data"
    }
   ],
   "source": [
    "plot_roc_curve(gs, X_test, y_test);\n",
    "# add worst case scenario line\n",
    "plt.plot([0,1], [0,1], label = 'baseline', linestyle = '--');\n",
    "# add a legend\n",
    "plt.legend();"
   ]
  },
  {
   "cell_type": "code",
   "execution_count": 590,
   "metadata": {},
   "outputs": [
    {
     "data": {
      "text/plain": [
       "0.9318243000717875"
      ]
     },
     "execution_count": 590,
     "metadata": {},
     "output_type": "execute_result"
    }
   ],
   "source": [
    "roc_auc_score(y_test, gs.predict_proba(X_test)[:,1])"
   ]
  },
  {
   "cell_type": "code",
   "execution_count": 591,
   "metadata": {},
   "outputs": [
    {
     "name": "stdout",
     "output_type": "stream",
     "text": [
      "True Negatives: 167, False Positives: 32, False Negatives: 32, True Positives: 192\n"
     ]
    }
   ],
   "source": [
    "confusion_matrix(y_test, preds)\n",
    "tn, fp, fn, tp = confusion_matrix(y_test, preds).ravel()\n",
    "print(f'True Negatives: {tn}, False Positives: {fp}, False Negatives: {fn}, True Positives: {tp}')"
   ]
  },
  {
   "cell_type": "code",
   "execution_count": 592,
   "metadata": {},
   "outputs": [
    {
     "data": {
      "image/png": "[encoded data removed]",
      "text/plain": [
       "<Figure size 432x288 with 2 Axes>"
      ]
     },
     "metadata": {
      "needs_background": "light"
     },
     "output_type": "display_data"
    }
   ],
   "source": [
    "plot_confusion_matrix(gs, X_test, y_test, cmap='Blues', values_format='d', display_labels=['nba', 'warriors']);"
   ]
  },
  {
   "cell_type": "markdown",
   "metadata": {},
   "source": [
    "### I want to locate false positives in my model because there could be overlap with posts about warriors players"
   ]
  },
  {
   "cell_type": "code",
   "execution_count": 554,
   "metadata": {},
   "outputs": [],
   "source": [
    "y_test_df = pd.DataFrame(y_test.copy())\n"
   ]
  },
  {
   "cell_type": "code",
   "execution_count": 555,
   "metadata": {},
   "outputs": [
    {
     "name": "stdout",
     "output_type": "stream",
     "text": [
      "630    [Dunc'd On] LA Clippers 2021-22 Season Outlook with Sabreena Merchant\n",
      "Name: posts, dtype: object\n",
      "583    Steph Curry on last season: “I heard a lot of noise and I heard a lot of talk about who I wasn't and we were going to get exposed and I was going to get exposed and all that type of stuff,\"\n",
      "Name: posts, dtype: object\n",
      "632    If you could change one rule or element of the game, what would it be?\n",
      "Name: posts, dtype: object\n",
      "727    What is one trade that you can think of that re-unites the most teammates?\n",
      "Name: posts, dtype: object\n",
      "486    What do you think is the easiest position to play? What about the hardest?\n",
      "Name: posts, dtype: object\n",
      "117    [Slater] The Warriors took 69 threes tonight. They never attempted more than 54 in a game last season.\n",
      "Name: posts, dtype: object\n",
      "668    The case for the Warriors to aggressively try to trade for Ben Simmons\n",
      "Name: posts, dtype: object\n",
      "621    Weekly Friday Self-Promotion and Fan Art Thread\n",
      "Name: posts, dtype: object\n",
      "634    Rasheed Wallace steals inbound pass with 1.3 seconds left and ties it up with a 3/4 court shot. Blaha and Kelser lose their shit\n",
      "Name: posts, dtype: object\n",
      "622    [Farbod] Ty Lue says he pulled Luke Kennard from scrimmage because he didn’t shoot an open shot. “He knows what he’s out there to do.”\n",
      "Name: posts, dtype: object\n",
      "647    [Slater] Still no update on Andrew Wiggins' vaccination status, per Kerr.\n",
      "Name: posts, dtype: object\n",
      "105    Andre Iguodala accidentally breaks Cody Zellers nose\n",
      "Name: posts, dtype: object\n",
      "290    When KD and Curry were teammates on the Warriors, why was there such a big difference in their on-off/\"with or without you\" impact in the regular season and playoffs? The two stats tell drastically different stories.\n",
      "Name: posts, dtype: object\n",
      "689    UK fixtures 21/22?\n",
      "Name: posts, dtype: object\n",
      "418    Jared Butler looked great today at Jazz scrimmage\n",
      "Name: posts, dtype: object\n",
      "505    [Caplan] Liked this perspective from KP on @dfwticket: Said he sees criticism online, but it doesn't bother him much because he knows how he reacts with passion when he's watching his favorite sports, like MMA, on TV: \"I'm that couch expert also.\"\n",
      "Name: posts, dtype: object\n",
      "191    [Koreen] OG Anunoby on his teammates asking him about playing in Toronto: “Nobody’s asked me anything.\"\n",
      "Name: posts, dtype: object\n",
      "239    How would LA look if the clippers won?\n",
      "Name: posts, dtype: object\n",
      "144    How much potential does Jordan Poole have?\n",
      "Name: posts, dtype: object\n",
      "711    The Detroit Pistons have more DEAD money on their roster than the OKC Thunders active roster\n",
      "Name: posts, dtype: object\n",
      "644    Who do you have ranked higher: Steph or KD?\n",
      "Name: posts, dtype: object\n",
      "662    How would the OKC Big-3 look like in 2021?\n",
      "Name: posts, dtype: object\n",
      "73    Josh Giddey finishes with his 1st game with 18/7/3 on 8/12 shooting\n",
      "Name: posts, dtype: object\n",
      "521    Andrew Wiggins putting up shots at practice\n",
      "Name: posts, dtype: object\n",
      "474    Redrafting the league with a twist\n",
      "Name: posts, dtype: object\n",
      "275    Who is the best head coach in the league ahead of the new season?\n",
      "Name: posts, dtype: object\n",
      "30    [Highkin] Wiggins: “I had a bad reaction a few years to Tylenol and since then I haven’t wanted to take anything. Let stuff heal naturally. … In this case, I had covid and it wasn’t that bad. I didn’t want to take the chance. I don’t know if it causes cancer or anything like that.”\n",
      "Name: posts, dtype: object\n",
      "52    Fred VanVleet - Defensive Dynamo 2020/21\n",
      "Name: posts, dtype: object\n",
      "593    History of Restricted Free Agency\n",
      "Name: posts, dtype: object\n",
      "237    Kerr: “Andrew got vaccinated. He just told me today that he was fine with us acknowledging it and that will be the end of it. I’m not going to answer any questions beyond that.”\n",
      "Name: posts, dtype: object\n",
      "791    Dark Horse MVP contenders\n",
      "Name: posts, dtype: object\n",
      "678    Bogdan Bogdanović shares his view on \"doing your research\" in regards to the vaccine\n",
      "Name: posts, dtype: object\n"
     ]
    }
   ],
   "source": [
    "pred = pd.DataFrame(preds)\n",
    "pred = pred.set_index(y_test.index)\n",
    "\n",
    "new = pd.merge(y_test_df, pred, left_index = True, right_index= True)\n",
    "new.rename(columns = {'subreddit_warriors': 'war', 0 :'preds'}, inplace = True)\n",
    "\n",
    "false_pos = new.loc[(new['war'] == 0) & (new['preds'] == 1)] \n",
    "lst = false_pos.index\n",
    "for ele in lst:\n",
    "    print(df.loc[df.index == ele]['posts'])"
   ]
  },
  {
   "cell_type": "markdown",
   "metadata": {},
   "source": [
    "#### 10 false positives are explicitly related to the warriors (Had to use human moderator to identify)"
   ]
  },
  {
   "cell_type": "code",
   "execution_count": 593,
   "metadata": {},
   "outputs": [
    {
     "name": "stdout",
     "output_type": "stream",
     "text": [
      "True Negatives: 167, False Positives: 22, False Negatives: 32, True Positives: 202\n"
     ]
    }
   ],
   "source": [
    "## actual classifications\n",
    "confusion_matrix(y_test, preds)\n",
    "tn, fp, fn, tp = confusion_matrix(y_test, preds).ravel()\n",
    "print(f'True Negatives: {tn}, False Positives: {fp-10}, False Negatives: {fn}, True Positives: {tp+10}')"
   ]
  },
  {
   "cell_type": "code",
   "execution_count": 594,
   "metadata": {},
   "outputs": [
    {
     "data": {
      "text/plain": [
       "0.8632478632478633"
      ]
     },
     "execution_count": 594,
     "metadata": {},
     "output_type": "execute_result"
    }
   ],
   "source": [
    "## Sensitivity\n",
    "(tp+10) / ((tp+10) + (fn))"
   ]
  },
  {
   "cell_type": "code",
   "execution_count": 595,
   "metadata": {},
   "outputs": [
    {
     "data": {
      "text/plain": [
       "0.9017857142857143"
      ]
     },
     "execution_count": 595,
     "metadata": {},
     "output_type": "execute_result"
    }
   ],
   "source": [
    "## Precision\n",
    "(tp+10)/ ((tp+10)+(fp-10))"
   ]
  },
  {
   "cell_type": "code",
   "execution_count": 596,
   "metadata": {},
   "outputs": [
    {
     "data": {
      "text/plain": [
       "0.8723404255319149"
      ]
     },
     "execution_count": 596,
     "metadata": {},
     "output_type": "execute_result"
    }
   ],
   "source": [
    "## Accuracy\n",
    "(tp+10+tn) / (tp+fn+fp+tn)"
   ]
  },
  {
   "cell_type": "markdown",
   "metadata": {},
   "source": [
    "### Model 2- KNN"
   ]
  },
  {
   "cell_type": "code",
   "execution_count": 491,
   "metadata": {},
   "outputs": [],
   "source": [
    "kcount = 0\n",
    "kmodel_params = {}"
   ]
  },
  {
   "cell_type": "code",
   "execution_count": 492,
   "metadata": {},
   "outputs": [],
   "source": [
    "pipe = Pipeline([\n",
    "    ('cvec', CountVectorizer(stop_words= 'english')),\n",
    "    ('knn', KNeighborsClassifier())\n",
    "])\n",
    "\n",
    "pipe_params = {\n",
    "    'cvec__max_features': [2000, 3000, 4000, 5000],\n",
    "    'cvec__max_df': [.3, .4, .5, .6],\n",
    "    'cvec__ngram_range': [(1,1), (1,2)],\n",
    "    'knn__n_neighbors': [3, 5, 7],\n",
    "    'knn__weights' : ['uniform', 'distance'],\n",
    "    'knn__algorithm' : ['auto', 'brute'],\n",
    "    'knn__leaf_size' : [25, 30, 35],\n",
    "    'knn__p' : [1,2]\n",
    "}"
   ]
  },
  {
   "cell_type": "code",
   "execution_count": 493,
   "metadata": {},
   "outputs": [
    {
     "data": {
      "text/html": [
       "<div>\n",
       "<style scoped>\n",
       "    .dataframe tbody tr th:only-of-type {\n",
       "        vertical-align: middle;\n",
       "    }\n",
       "\n",
       "    .dataframe tbody tr th {\n",
       "        vertical-align: top;\n",
       "    }\n",
       "\n",
       "    .dataframe thead th {\n",
       "        text-align: right;\n",
       "    }\n",
       "</style>\n",
       "<table border=\"1\" class=\"dataframe\">\n",
       "  <thead>\n",
       "    <tr style=\"text-align: right;\">\n",
       "      <th></th>\n",
       "      <th>cvec__max_df</th>\n",
       "      <th>cvec__max_features</th>\n",
       "      <th>cvec__ngram_range</th>\n",
       "      <th>knn__algorithm</th>\n",
       "      <th>knn__leaf_size</th>\n",
       "      <th>knn__n_neighbors</th>\n",
       "      <th>knn__p</th>\n",
       "      <th>knn__weights</th>\n",
       "      <th>score</th>\n",
       "    </tr>\n",
       "  </thead>\n",
       "  <tbody>\n",
       "    <tr>\n",
       "      <th>model_33</th>\n",
       "      <td>0.3</td>\n",
       "      <td>2000</td>\n",
       "      <td>(1, 2)</td>\n",
       "      <td>auto</td>\n",
       "      <td>25</td>\n",
       "      <td>3</td>\n",
       "      <td>2</td>\n",
       "      <td>uniform</td>\n",
       "      <td>0.608325</td>\n",
       "    </tr>\n",
       "  </tbody>\n",
       "</table>\n",
       "</div>"
      ],
      "text/plain": [
       "          cvec__max_df  cvec__max_features cvec__ngram_range knn__algorithm  \\\n",
       "model_33           0.3                2000            (1, 2)           auto   \n",
       "\n",
       "          knn__leaf_size  knn__n_neighbors  knn__p knn__weights     score  \n",
       "model_33              25                 3       2      uniform  0.608325  "
      ]
     },
     "execution_count": 493,
     "metadata": {},
     "output_type": "execute_result"
    }
   ],
   "source": [
    "##gridsearch\n",
    "gs = GridSearchCV(estimator = pipe, param_grid= pipe_params, cv= 5)\n",
    "gs.fit(X_train, y_train)\n",
    "count += 1\n",
    "\n",
    "gs.best_params_['score']= gs.best_score_\n",
    "kmodel_params[f'model_{count}'] = gs.best_params_\n",
    "kmodel_df = pd.DataFrame.from_dict(kmodel_params, orient = 'index')\n",
    "kmodel_df"
   ]
  },
  {
   "cell_type": "code",
   "execution_count": 494,
   "metadata": {},
   "outputs": [
    {
     "data": {
      "text/plain": [
       "0.5862884160756501"
      ]
     },
     "execution_count": 494,
     "metadata": {},
     "output_type": "execute_result"
    }
   ],
   "source": [
    "gs.score(X_test, y_test)"
   ]
  },
  {
   "cell_type": "code",
   "execution_count": 495,
   "metadata": {},
   "outputs": [],
   "source": [
    "preds = gs.predict(X_test)"
   ]
  },
  {
   "cell_type": "code",
   "execution_count": 496,
   "metadata": {},
   "outputs": [
    {
     "name": "stdout",
     "output_type": "stream",
     "text": [
      "True Negatives: 36, False Positives: 163, False Negatives: 12, True Positives: 212\n"
     ]
    }
   ],
   "source": [
    "confusion_matrix(y_test, preds)\n",
    "tn, fp, fn, tp = confusion_matrix(y_test, preds).ravel()\n",
    "print(f'True Negatives: {tn}, False Positives: {fp}, False Negatives: {fn}, True Positives: {tp}')"
   ]
  },
  {
   "cell_type": "code",
   "execution_count": 497,
   "metadata": {},
   "outputs": [
    {
     "data": {
      "image/png": "[encoded data removed]",
      "text/plain": [
       "<Figure size 432x288 with 2 Axes>"
      ]
     },
     "metadata": {
      "needs_background": "light"
     },
     "output_type": "display_data"
    }
   ],
   "source": [
    "plot_confusion_matrix(gs, X_test, y_test, cmap='Blues', values_format='d');"
   ]
  },
  {
   "cell_type": "code",
   "execution_count": null,
   "metadata": {},
   "outputs": [],
   "source": [
    "pred = pd.DataFrame(preds)\n",
    "pred = pred.set_index(y_test.index)\n",
    "\n",
    "new = pd.merge(y_test_df, pred, left_index = True, right_index= True)\n",
    "new.rename(columns = {'subreddit_warriors': 'war', 0 :'preds'}, inplace = True)\n",
    "\n",
    "false_pos = new.loc[(new['war'] == 0) & (new['preds'] == 1)] \n",
    "lst = false_pos.index\n",
    "for ele in lst:\n",
    "    print(df.loc[df.index == ele]['posts'])"
   ]
  },
  {
   "cell_type": "code",
   "execution_count": 500,
   "metadata": {},
   "outputs": [],
   "source": [
    "## too many for me to manually count"
   ]
  },
  {
   "cell_type": "markdown",
   "metadata": {},
   "source": [
    "### Model 3 - Descision Tree Classifier"
   ]
  },
  {
   "cell_type": "code",
   "execution_count": 162,
   "metadata": {},
   "outputs": [],
   "source": [
    "dcount = 0\n",
    "dmodel_params = {}"
   ]
  },
  {
   "cell_type": "code",
   "execution_count": 163,
   "metadata": {},
   "outputs": [],
   "source": [
    "pipe = Pipeline([\n",
    "    ('cvec', CountVectorizer(stop_words= 'english')),\n",
    "    ('dt', DecisionTreeClassifier())\n",
    "])\n",
    "\n",
    "pipe_params = {\n",
    "    'cvec__max_features': [2700, 2850, 3000, 3250],\n",
    "    'cvec__max_df': [.45, .47, .5, .53],\n",
    "    'cvec__ngram_range': [(1,1), (1,2)],\n",
    "    'dt__max_depth' : [13, 15, 17, 21],\n",
    "    'dt__min_samples_split' : [8, 9, 10],\n",
    "    'dt__min_samples_leaf' : [1, 2, 3, 4]\n",
    "}"
   ]
  },
  {
   "cell_type": "code",
   "execution_count": 164,
   "metadata": {},
   "outputs": [
    {
     "name": "stdout",
     "output_type": "stream",
     "text": [
      "0.8085106382978723\n"
     ]
    }
   ],
   "source": [
    "gs = GridSearchCV(estimator = pipe, param_grid= pipe_params, cv= 5)\n",
    "gs.fit(X_train, y_train)\n",
    "count += 1\n",
    "\n",
    "gs.best_params_['score']= gs.best_score_\n",
    "dmodel_params[f'model_{count}'] = gs.best_params_\n",
    "dmodel_df = pd.DataFrame.from_dict(dmodel_params, orient = 'index')\n",
    "dmodel_df\n",
    "print(gs.score(X_test, y_test))"
   ]
  },
  {
   "cell_type": "code",
   "execution_count": 165,
   "metadata": {},
   "outputs": [],
   "source": [
    "preds = gs.predict(X_test)"
   ]
  },
  {
   "cell_type": "code",
   "execution_count": 166,
   "metadata": {},
   "outputs": [
    {
     "name": "stdout",
     "output_type": "stream",
     "text": [
      "True Negatives: 182, False Positives: 17, False Negatives: 64, True Positives: 160\n"
     ]
    }
   ],
   "source": [
    "confusion_matrix(y_test, preds)\n",
    "tn, fp, fn, tp = confusion_matrix(y_test, preds).ravel()\n",
    "print(f'True Negatives: {tn}, False Positives: {fp}, False Negatives: {fn}, True Positives: {tp}')"
   ]
  },
  {
   "cell_type": "code",
   "execution_count": 167,
   "metadata": {},
   "outputs": [
    {
     "data": {
      "image/png": "[encoded data removed]",
      "text/plain": [
       "<Figure size 432x288 with 2 Axes>"
      ]
     },
     "metadata": {
      "needs_background": "light"
     },
     "output_type": "display_data"
    }
   ],
   "source": [
    "plot_confusion_matrix(gs, X_test, y_test, cmap='Blues', values_format='d');"
   ]
  },
  {
   "cell_type": "markdown",
   "metadata": {},
   "source": [
    "### Model 4 - Random Forest Classifier"
   ]
  },
  {
   "cell_type": "code",
   "execution_count": 168,
   "metadata": {},
   "outputs": [],
   "source": [
    "rcount = 0\n",
    "rmodel_params = {}"
   ]
  },
  {
   "cell_type": "code",
   "execution_count": 569,
   "metadata": {},
   "outputs": [],
   "source": [
    "pipe = Pipeline([\n",
    "    ('cvec', CountVectorizer(stop_words= 'english')),\n",
    "    ('rf', RandomForestClassifier())\n",
    "])\n",
    "\n",
    "pipe_params = {\n",
    "    'cvec__max_features': [3000, 3250, 3500],\n",
    "    'cvec__max_df': [.4, .45, .5],\n",
    "    'cvec__ngram_range': [(1,1), (1,2)],\n",
    "    'rf__max_depth' : [13, 15, 17],\n",
    "    'rf__min_samples_split' : [7, 8, 9],\n",
    "    'rf__min_samples_leaf' : [1, 2]\n",
    "}"
   ]
  },
  {
   "cell_type": "code",
   "execution_count": null,
   "metadata": {},
   "outputs": [],
   "source": [
    "gs = GridSearchCV(estimator = pipe, param_grid= pipe_params, cv= 5)\n",
    "gs.fit(X_train, y_train)\n",
    "count += 1\n",
    "\n",
    "gs.best_params_['score']= gs.best_score_\n",
    "rmodel_params[f'model_{count}'] = gs.best_params_\n",
    "rmodel_df = pd.DataFrame.from_dict(rmodel_params, orient = 'index')\n",
    "rmodel_df\n"
   ]
  },
  {
   "cell_type": "code",
   "execution_count": null,
   "metadata": {},
   "outputs": [],
   "source": [
    "gs.score(X_test, y_test)"
   ]
  },
  {
   "cell_type": "code",
   "execution_count": 171,
   "metadata": {},
   "outputs": [],
   "source": [
    "preds = gs.predict(X_test)\n"
   ]
  },
  {
   "cell_type": "code",
   "execution_count": 172,
   "metadata": {},
   "outputs": [
    {
     "name": "stdout",
     "output_type": "stream",
     "text": [
      "True Negatives: 174, False Positives: 25, False Negatives: 38, True Positives: 186\n"
     ]
    }
   ],
   "source": [
    "confusion_matrix(y_test, preds)\n",
    "tn, fp, fn, tp = confusion_matrix(y_test, preds).ravel()\n",
    "print(f'True Negatives: {tn}, False Positives: {fp}, False Negatives: {fn}, True Positives: {tp}')"
   ]
  },
  {
   "cell_type": "code",
   "execution_count": 173,
   "metadata": {},
   "outputs": [
    {
     "data": {
      "image/png": "[encoded data removed]",
      "text/plain": [
       "<Figure size 432x288 with 2 Axes>"
      ]
     },
     "metadata": {
      "needs_background": "light"
     },
     "output_type": "display_data"
    }
   ],
   "source": [
    "plot_confusion_matrix(gs, X_test, y_test, cmap='Blues', values_format='d');"
   ]
  },
  {
   "cell_type": "markdown",
   "metadata": {},
   "source": [
    "### Model 5 - SVC"
   ]
  },
  {
   "cell_type": "code",
   "execution_count": 174,
   "metadata": {},
   "outputs": [],
   "source": [
    "scount = 0\n",
    "smodel_params = {}\n"
   ]
  },
  {
   "cell_type": "code",
   "execution_count": 175,
   "metadata": {},
   "outputs": [],
   "source": [
    "pipe = Pipeline([\n",
    "    ('cvec', CountVectorizer(stop_words= 'english')),\n",
    "    ('svc', SVC())\n",
    "])\n",
    "\n",
    "pipe_params = {\n",
    "    'cvec__max_features': [1500, 1750, 2000, 2250, 2500],\n",
    "    'cvec__max_df': [.2, .25, .3, .35],\n",
    "    'cvec__ngram_range': [(1,1), (1,2)],\n",
    "    'svc__C' : [.5, 1, 2, 5],\n",
    "    'svc__kernel' : ['linear', 'poly', 'rbf'],\n",
    "    'svc__degree' : [2] \n",
    "}\n"
   ]
  },
  {
   "cell_type": "code",
   "execution_count": 176,
   "metadata": {},
   "outputs": [
    {
     "data": {
      "text/html": [
       "<div>\n",
       "<style scoped>\n",
       "    .dataframe tbody tr th:only-of-type {\n",
       "        vertical-align: middle;\n",
       "    }\n",
       "\n",
       "    .dataframe tbody tr th {\n",
       "        vertical-align: top;\n",
       "    }\n",
       "\n",
       "    .dataframe thead th {\n",
       "        text-align: right;\n",
       "    }\n",
       "</style>\n",
       "<table border=\"1\" class=\"dataframe\">\n",
       "  <thead>\n",
       "    <tr style=\"text-align: right;\">\n",
       "      <th></th>\n",
       "      <th>cvec__max_df</th>\n",
       "      <th>cvec__max_features</th>\n",
       "      <th>cvec__ngram_range</th>\n",
       "      <th>svc__C</th>\n",
       "      <th>svc__degree</th>\n",
       "      <th>svc__kernel</th>\n",
       "      <th>score</th>\n",
       "    </tr>\n",
       "  </thead>\n",
       "  <tbody>\n",
       "    <tr>\n",
       "      <th>model_30</th>\n",
       "      <td>0.2</td>\n",
       "      <td>2000</td>\n",
       "      <td>(1, 2)</td>\n",
       "      <td>1</td>\n",
       "      <td>2</td>\n",
       "      <td>rbf</td>\n",
       "      <td>0.841598</td>\n",
       "    </tr>\n",
       "  </tbody>\n",
       "</table>\n",
       "</div>"
      ],
      "text/plain": [
       "          cvec__max_df  cvec__max_features cvec__ngram_range  svc__C  \\\n",
       "model_30           0.2                2000            (1, 2)       1   \n",
       "\n",
       "          svc__degree svc__kernel     score  \n",
       "model_30            2         rbf  0.841598  "
      ]
     },
     "execution_count": 176,
     "metadata": {},
     "output_type": "execute_result"
    }
   ],
   "source": [
    "gs = GridSearchCV(estimator = pipe, param_grid= pipe_params, cv= 5)\n",
    "gs.fit(X_train, y_train)\n",
    "count += 1\n",
    "\n",
    "gs.best_params_['score']= gs.best_score_\n",
    "smodel_params[f'model_{count}'] = gs.best_params_\n",
    "smodel_df = pd.DataFrame.from_dict(smodel_params, orient = 'index')\n",
    "smodel_df"
   ]
  },
  {
   "cell_type": "code",
   "execution_count": 177,
   "metadata": {},
   "outputs": [],
   "source": [
    "preds = gs.predict(X_test)\n"
   ]
  },
  {
   "cell_type": "code",
   "execution_count": 178,
   "metadata": {},
   "outputs": [
    {
     "name": "stdout",
     "output_type": "stream",
     "text": [
      "True Negatives: 168, False Positives: 31, False Negatives: 35, True Positives: 189\n"
     ]
    }
   ],
   "source": [
    "confusion_matrix(y_test, preds)\n",
    "tn, fp, fn, tp = confusion_matrix(y_test, preds).ravel()\n",
    "print(f'True Negatives: {tn}, False Positives: {fp}, False Negatives: {fn}, True Positives: {tp}')\n"
   ]
  },
  {
   "cell_type": "code",
   "execution_count": 179,
   "metadata": {},
   "outputs": [
    {
     "data": {
      "image/png": "[encoded data removed]",
      "text/plain": [
       "<Figure size 432x288 with 2 Axes>"
      ]
     },
     "metadata": {
      "needs_background": "light"
     },
     "output_type": "display_data"
    }
   ],
   "source": [
    "plot_confusion_matrix(gs, X_test, y_test, cmap='Blues', values_format='d');"
   ]
  },
  {
   "cell_type": "markdown",
   "metadata": {},
   "source": [
    "### Model 6 - Naive Bayes"
   ]
  },
  {
   "cell_type": "code",
   "execution_count": 571,
   "metadata": {},
   "outputs": [],
   "source": [
    "ncount = 0\n",
    "nmodel_params = {}\n"
   ]
  },
  {
   "cell_type": "code",
   "execution_count": 572,
   "metadata": {},
   "outputs": [],
   "source": [
    "pipe = Pipeline([\n",
    "    ('cvec', CountVectorizer(stop_words= 'english')),\n",
    "    ('nb', MultinomialNB())\n",
    "])\n",
    "\n",
    "pipe_params = {\n",
    "    'cvec__max_features': [5500, 6000, 7000],\n",
    "    'cvec__max_df': [.25, .27, .3, .33, .35],\n",
    "    'cvec__ngram_range': [(1,1), (1,2), (1,3)],\n",
    "    'nb__alpha' : [.7, 7.5, .8, .85]\n",
    "}\n"
   ]
  },
  {
   "cell_type": "code",
   "execution_count": 573,
   "metadata": {},
   "outputs": [
    {
     "data": {
      "text/html": [
       "<div>\n",
       "<style scoped>\n",
       "    .dataframe tbody tr th:only-of-type {\n",
       "        vertical-align: middle;\n",
       "    }\n",
       "\n",
       "    .dataframe tbody tr th {\n",
       "        vertical-align: top;\n",
       "    }\n",
       "\n",
       "    .dataframe thead th {\n",
       "        text-align: right;\n",
       "    }\n",
       "</style>\n",
       "<table border=\"1\" class=\"dataframe\">\n",
       "  <thead>\n",
       "    <tr style=\"text-align: right;\">\n",
       "      <th></th>\n",
       "      <th>cvec__max_df</th>\n",
       "      <th>cvec__max_features</th>\n",
       "      <th>cvec__ngram_range</th>\n",
       "      <th>nb__alpha</th>\n",
       "      <th>score</th>\n",
       "    </tr>\n",
       "  </thead>\n",
       "  <tbody>\n",
       "    <tr>\n",
       "      <th>model_39</th>\n",
       "      <td>0.25</td>\n",
       "      <td>5500</td>\n",
       "      <td>(1, 3)</td>\n",
       "      <td>7.5</td>\n",
       "      <td>0.850272</td>\n",
       "    </tr>\n",
       "  </tbody>\n",
       "</table>\n",
       "</div>"
      ],
      "text/plain": [
       "          cvec__max_df  cvec__max_features cvec__ngram_range  nb__alpha  \\\n",
       "model_39          0.25                5500            (1, 3)        7.5   \n",
       "\n",
       "             score  \n",
       "model_39  0.850272  "
      ]
     },
     "execution_count": 573,
     "metadata": {},
     "output_type": "execute_result"
    }
   ],
   "source": [
    "gs = GridSearchCV(estimator = pipe, param_grid= pipe_params, cv= 5)\n",
    "gs.fit(X_train, y_train)\n",
    "count += 1\n",
    "\n",
    "gs.best_params_['score']= gs.best_score_\n",
    "nmodel_params[f'model_{count}'] = gs.best_params_\n",
    "nmodel_df = pd.DataFrame.from_dict(nmodel_params, orient = 'index')\n",
    "nmodel_df\n"
   ]
  },
  {
   "cell_type": "code",
   "execution_count": 574,
   "metadata": {},
   "outputs": [
    {
     "data": {
      "text/plain": [
       "0.8534278959810875"
      ]
     },
     "execution_count": 574,
     "metadata": {},
     "output_type": "execute_result"
    }
   ],
   "source": [
    "gs.score(X_test, y_test)"
   ]
  },
  {
   "cell_type": "code",
   "execution_count": 562,
   "metadata": {},
   "outputs": [],
   "source": [
    "preds = gs.predict(X_test)\n"
   ]
  },
  {
   "cell_type": "code",
   "execution_count": 563,
   "metadata": {},
   "outputs": [
    {
     "data": {
      "image/png": "[encoded data removed]",
      "text/plain": [
       "<Figure size 432x288 with 1 Axes>"
      ]
     },
     "metadata": {
      "needs_background": "light"
     },
     "output_type": "display_data"
    }
   ],
   "source": [
    "plot_roc_curve(gs, X_test, y_test);\n",
    "# add worst case scenario line\n",
    "plt.plot([0,1], [0,1], label = 'baseline', linestyle = '--');\n",
    "# add a legend\n",
    "plt.legend();"
   ]
  },
  {
   "cell_type": "code",
   "execution_count": 564,
   "metadata": {},
   "outputs": [
    {
     "data": {
      "text/plain": [
       "0.9388908829863604"
      ]
     },
     "execution_count": 564,
     "metadata": {},
     "output_type": "execute_result"
    }
   ],
   "source": [
    "roc_auc_score(y_test, gs.predict_proba(X_test)[:,1])"
   ]
  },
  {
   "cell_type": "code",
   "execution_count": 565,
   "metadata": {},
   "outputs": [
    {
     "name": "stdout",
     "output_type": "stream",
     "text": [
      "True Negatives: 163, False Positives: 36, False Negatives: 26, True Positives: 198\n"
     ]
    }
   ],
   "source": [
    "confusion_matrix(y_test, preds)\n",
    "tn, fp, fn, tp = confusion_matrix(y_test, preds).ravel()\n",
    "print(f'True Negatives: {tn}, False Positives: {fp}, False Negatives: {fn}, True Positives: {tp}')\n"
   ]
  },
  {
   "cell_type": "code",
   "execution_count": 578,
   "metadata": {},
   "outputs": [
    {
     "data": {
      "image/png": "[encoded data removed]",
      "text/plain": [
       "<Figure size 432x288 with 2 Axes>"
      ]
     },
     "metadata": {
      "needs_background": "light"
     },
     "output_type": "display_data"
    }
   ],
   "source": [
    "plot_confusion_matrix(gs, X_test, y_test, cmap='Blues', values_format='d', display_labels=['nba', 'warriors']);"
   ]
  },
  {
   "cell_type": "code",
   "execution_count": 598,
   "metadata": {},
   "outputs": [
    {
     "name": "stdout",
     "output_type": "stream",
     "text": [
      "630    [Dunc'd On] LA Clippers 2021-22 Season Outlook with Sabreena Merchant\n",
      "Name: posts, dtype: object\n",
      "583    Steph Curry on last season: “I heard a lot of noise and I heard a lot of talk about who I wasn't and we were going to get exposed and I was going to get exposed and all that type of stuff,\"\n",
      "Name: posts, dtype: object\n",
      "632    If you could change one rule or element of the game, what would it be?\n",
      "Name: posts, dtype: object\n",
      "727    What is one trade that you can think of that re-unites the most teammates?\n",
      "Name: posts, dtype: object\n",
      "486    What do you think is the easiest position to play? What about the hardest?\n",
      "Name: posts, dtype: object\n",
      "117    [Slater] The Warriors took 69 threes tonight. They never attempted more than 54 in a game last season.\n",
      "Name: posts, dtype: object\n",
      "668    The case for the Warriors to aggressively try to trade for Ben Simmons\n",
      "Name: posts, dtype: object\n",
      "621    Weekly Friday Self-Promotion and Fan Art Thread\n",
      "Name: posts, dtype: object\n",
      "634    Rasheed Wallace steals inbound pass with 1.3 seconds left and ties it up with a 3/4 court shot. Blaha and Kelser lose their shit\n",
      "Name: posts, dtype: object\n",
      "622    [Farbod] Ty Lue says he pulled Luke Kennard from scrimmage because he didn’t shoot an open shot. “He knows what he’s out there to do.”\n",
      "Name: posts, dtype: object\n",
      "647    [Slater] Still no update on Andrew Wiggins' vaccination status, per Kerr.\n",
      "Name: posts, dtype: object\n",
      "105    Andre Iguodala accidentally breaks Cody Zellers nose\n",
      "Name: posts, dtype: object\n",
      "290    When KD and Curry were teammates on the Warriors, why was there such a big difference in their on-off/\"with or without you\" impact in the regular season and playoffs? The two stats tell drastically different stories.\n",
      "Name: posts, dtype: object\n",
      "689    UK fixtures 21/22?\n",
      "Name: posts, dtype: object\n",
      "418    Jared Butler looked great today at Jazz scrimmage\n",
      "Name: posts, dtype: object\n",
      "505    [Caplan] Liked this perspective from KP on @dfwticket: Said he sees criticism online, but it doesn't bother him much because he knows how he reacts with passion when he's watching his favorite sports, like MMA, on TV: \"I'm that couch expert also.\"\n",
      "Name: posts, dtype: object\n",
      "191    [Koreen] OG Anunoby on his teammates asking him about playing in Toronto: “Nobody’s asked me anything.\"\n",
      "Name: posts, dtype: object\n",
      "239    How would LA look if the clippers won?\n",
      "Name: posts, dtype: object\n",
      "144    How much potential does Jordan Poole have?\n",
      "Name: posts, dtype: object\n",
      "711    The Detroit Pistons have more DEAD money on their roster than the OKC Thunders active roster\n",
      "Name: posts, dtype: object\n",
      "644    Who do you have ranked higher: Steph or KD?\n",
      "Name: posts, dtype: object\n",
      "662    How would the OKC Big-3 look like in 2021?\n",
      "Name: posts, dtype: object\n",
      "73    Josh Giddey finishes with his 1st game with 18/7/3 on 8/12 shooting\n",
      "Name: posts, dtype: object\n",
      "521    Andrew Wiggins putting up shots at practice\n",
      "Name: posts, dtype: object\n",
      "474    Redrafting the league with a twist\n",
      "Name: posts, dtype: object\n",
      "275    Who is the best head coach in the league ahead of the new season?\n",
      "Name: posts, dtype: object\n",
      "30    [Highkin] Wiggins: “I had a bad reaction a few years to Tylenol and since then I haven’t wanted to take anything. Let stuff heal naturally. … In this case, I had covid and it wasn’t that bad. I didn’t want to take the chance. I don’t know if it causes cancer or anything like that.”\n",
      "Name: posts, dtype: object\n",
      "52    Fred VanVleet - Defensive Dynamo 2020/21\n",
      "Name: posts, dtype: object\n",
      "593    History of Restricted Free Agency\n",
      "Name: posts, dtype: object\n",
      "237    Kerr: “Andrew got vaccinated. He just told me today that he was fine with us acknowledging it and that will be the end of it. I’m not going to answer any questions beyond that.”\n",
      "Name: posts, dtype: object\n",
      "791    Dark Horse MVP contenders\n",
      "Name: posts, dtype: object\n",
      "678    Bogdan Bogdanović shares his view on \"doing your research\" in regards to the vaccine\n",
      "Name: posts, dtype: object\n"
     ]
    }
   ],
   "source": [
    "pred = pd.DataFrame(preds)\n",
    "pred = pred.set_index(y_test.index)\n",
    "\n",
    "new = pd.merge(y_test_df, pred, left_index = True, right_index= True)\n",
    "new.rename(columns = {'subreddit_warriors': 'war', 0 :'preds'}, inplace = True)\n",
    "\n",
    "false_pos = new.loc[(new['war'] == 0) & (new['preds'] == 1)] \n",
    "lst = false_pos.index\n",
    "for ele in lst:\n",
    "    print(df.loc[df.index == ele]['posts'])"
   ]
  },
  {
   "cell_type": "code",
   "execution_count": 568,
   "metadata": {},
   "outputs": [],
   "source": [
    "# there are 11 false positives relating to the warriors"
   ]
  },
  {
   "cell_type": "code",
   "execution_count": 519,
   "metadata": {},
   "outputs": [
    {
     "name": "stdout",
     "output_type": "stream",
     "text": [
      "True Negatives: 163, False Positives: 25, False Negatives: 26, True Positives: 209\n"
     ]
    }
   ],
   "source": [
    "confusion_matrix(y_test, preds)\n",
    "tn, fp, fn, tp = confusion_matrix(y_test, preds).ravel()\n",
    "print(f'True Negatives: {tn}, False Positives: {fp-11}, False Negatives: {fn}, True Positives: {tp+11}')"
   ]
  },
  {
   "cell_type": "code",
   "execution_count": 525,
   "metadata": {},
   "outputs": [
    {
     "data": {
      "text/plain": [
       "0.8893617021276595"
      ]
     },
     "execution_count": 525,
     "metadata": {},
     "output_type": "execute_result"
    }
   ],
   "source": [
    "## Sensitivity:\n",
    "(tp+11) / ((tp+11) + (fn))"
   ]
  },
  {
   "cell_type": "code",
   "execution_count": 522,
   "metadata": {},
   "outputs": [
    {
     "data": {
      "text/plain": [
       "0.8931623931623932"
      ]
     },
     "execution_count": 522,
     "metadata": {},
     "output_type": "execute_result"
    }
   ],
   "source": [
    "## Precision\n",
    "(tp+11)/ ((tp+11)+(fp-11))"
   ]
  },
  {
   "cell_type": "code",
   "execution_count": 523,
   "metadata": {},
   "outputs": [
    {
     "data": {
      "text/plain": [
       "0.8794326241134752"
      ]
     },
     "execution_count": 523,
     "metadata": {},
     "output_type": "execute_result"
    }
   ],
   "source": [
    "## Accuracy\n",
    "(tp+11+tn) / (tp+fn+fp+tn)"
   ]
  },
  {
   "cell_type": "markdown",
   "metadata": {},
   "source": [
    "### Conclusion\n",
    "\n",
    "The best model was Logistic Regression. It scored higher in the primary classification metric for scoring these models, precision. While Naive Bayes scored higher in both sensitivity and accuracy, precision is a more important metric for this model. It is possible that an aggregated model which uses both of these models could score better than either model individually. Naive Bayes also had a higher ROC AUC which identifies the seperation in the classifier data.\n",
    "\n",
    "*Sensitivity* is a metric for measuring how many positive posts were correctly identified compared to the total possible positives.\n",
    "*Precision* is a metric for measuring how many positive post were correctly identified compared to all posts identified as postitive.\n",
    "*Accuracy* is a metric for measuring how many posts were correctly identified compared to all identified posts."
   ]
  },
  {
   "cell_type": "markdown",
   "metadata": {},
   "source": [
    "### Next steps:\n",
    "Continue modeling for each nba subreddit, the more subreddits this bot is able to post to the faster it gain enough karma to be a product. Filter out already cross posted entries, if a bot is reposting, moderators will take action and attention could be drawn to the bot. "
   ]
  },
  {
   "cell_type": "code",
   "execution_count": null,
   "metadata": {},
   "outputs": [],
   "source": []
  }
 ],
 "metadata": {
  "kernelspec": {
   "display_name": "Python 3",
   "language": "python",
   "name": "python3"
  },
  "language_info": {
   "codemirror_mode": {
    "name": "ipython",
    "version": 3
   },
   "file_extension": ".py",
   "mimetype": "text/x-python",
   "name": "python",
   "nbconvert_exporter": "python",
   "pygments_lexer": "ipython3",
   "version": "3.8.5"
  }
 },
 "nbformat": 4,
 "nbformat_minor": 4
}
